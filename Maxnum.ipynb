{
 "cells": [
  {
   "cell_type": "markdown",
   "metadata": {},
   "source": [
    "### Write a program to find maximum between three numbers using conditional operator"
   ]
  },
  {
   "cell_type": "code",
   "execution_count": 10,
   "metadata": {},
   "outputs": [
    {
     "name": "stdout",
     "output_type": "stream",
     "text": [
      "Enter input Values:3 0 6\n",
      "6 is max\n"
     ]
    }
   ],
   "source": [
    "a,b,c=input(\"Enter input Values:\").split(\" \")\n",
    "def maxnum():\n",
    "    if a>b and a>c:\n",
    "        print(a,\"is max\")\n",
    "    elif b>c:\n",
    "        print(b,\"is max\")\n",
    "    else:\n",
    "        print(c,\"is max\")\n",
    "maxnum()        "
   ]
  }
 ],
 "metadata": {
  "kernelspec": {
   "display_name": "Python 3",
   "language": "python",
   "name": "python3"
  },
  "language_info": {
   "codemirror_mode": {
    "name": "ipython",
    "version": 3
   },
   "file_extension": ".py",
   "mimetype": "text/x-python",
   "name": "python",
   "nbconvert_exporter": "python",
   "pygments_lexer": "ipython3",
   "version": "3.7.4"
  }
 },
 "nbformat": 4,
 "nbformat_minor": 2
}
