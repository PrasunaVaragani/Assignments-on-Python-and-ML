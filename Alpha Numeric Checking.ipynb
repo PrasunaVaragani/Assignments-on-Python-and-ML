{
 "cells": [
  {
   "cell_type": "markdown",
   "metadata": {},
   "source": [
    "### 1.Write a program to check whether character is an alphabet or not using conditional operator."
   ]
  },
  {
   "cell_type": "code",
   "execution_count": 8,
   "metadata": {},
   "outputs": [
    {
     "name": "stdout",
     "output_type": "stream",
     "text": [
      "Enter any character:#\n",
      "given character is not alphabet and not numeric\n"
     ]
    }
   ],
   "source": [
    "a=input(\"Enter any character:\")\n",
    "if a.isalpha()==True:\n",
    "    print(\"Given character is alphabet\")\n",
    "elif a.isnumeric()==True:\n",
    "    print(\"Given character is numeric\")\n",
    "else:\n",
    "    print(\"given character is not alphabet and not numeric\")\n",
    "    "
   ]
  }
 ],
 "metadata": {
  "kernelspec": {
   "display_name": "Python 3",
   "language": "python",
   "name": "python3"
  },
  "language_info": {
   "codemirror_mode": {
    "name": "ipython",
    "version": 3
   },
   "file_extension": ".py",
   "mimetype": "text/x-python",
   "name": "python",
   "nbconvert_exporter": "python",
   "pygments_lexer": "ipython3",
   "version": "3.7.4"
  }
 },
 "nbformat": 4,
 "nbformat_minor": 2
}
